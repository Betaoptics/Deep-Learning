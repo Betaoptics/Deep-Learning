{
 "cells": [
  {
   "cell_type": "markdown",
   "metadata": {},
   "source": [
    "# Tehtävä 1\n",
    "### Aihe: Keras Functional API:n käyttö\n",
    "2,5 pistettä\n",
    "\n",
    "1. Luo alla olevan kuvan mukainen neuroverkko, jossa on useampi sisääntulo.\n",
    "    * Kerroksien neuronien määrällä tai aktivaatiofunktiolla ei ole väliä, määritä ne itse vapaasti.\n",
    "2. Aja \"Tehtävän vastaukset\" solu\n",
    "\n",
    "Vinkkejä:\n",
    "* Käytä concatenate - kerrosta yhdistääksesi Input2 ja sitä edeltävän Densen ulostulo. Sama homma Input3:lle. Katso esimerkki materiaalista Keras - otsikon alta.\n",
    "* Add kerroksen dokumentaatio: https://www.tensorflow.org/api_docs/python/tf/keras/layers/add?hl=th"
   ]
  },
  {
   "cell_type": "code",
   "execution_count": null,
   "metadata": {},
   "outputs": [],
   "source": [
    "from IPython.display import Image\n",
    "Image('../img/keras_functional_tehtävä.png')"
   ]
  },
  {
   "cell_type": "code",
   "execution_count": 1,
   "metadata": {},
   "outputs": [
    {
     "name": "stdout",
     "output_type": "stream",
     "text": [
      "(404, 2)\n",
      "(404,)\n"
     ]
    }
   ],
   "source": [
    "# Tehtävän toteutus\n",
    "import tensorflow as tf\n",
    "tf.keras.backend.set_floatx('float64')\n",
    "\n",
    "boston = tf.keras.datasets.boston_housing\n",
    "(train_features, train_labels), (test_features, test_labels) = boston.load_data()\n",
    "\n",
    "train_features_input1, train_features_input2 = train_features[:,:2], train_features[:,2]\n",
    "print(train_features_input1.shape)\n",
    "print(train_features_input2.shape)\n",
    "\n",
    "#inputs\n",
    "input1 = tf.keras.Input(shape=(13))\n",
    "input2 = tf.keras.Input(shape=(13))\n",
    "input3 = tf.keras.Input(shape=(13))\n",
    "\n",
    "#initial dense layers\n",
    "dense1 = tf.keras.layers.Dense(13, activation='relu')(input1)\n",
    "dense2 = tf.keras.layers.Dense(26, activation='relu')(dense1)\n",
    "dense3 = tf.keras.layers.Dense(20, activation='relu')(dense2)\n",
    "\n",
    "#concat dense3 to input2 and input3 layer\n",
    "concat1 = tf.keras.layers.concatenate([input2, dense3])\n",
    "concat2 = tf.keras.layers.concatenate([input3, dense3])\n",
    "\n",
    "#left side after concats\n",
    "dense4 = tf.keras.layers.Dense(23, activation='relu')(concat1)\n",
    "dropout1 = tf.keras.layers.Dropout(.20)(dense4)\n",
    "dense5 = tf.keras.layers.Dense(46, activation='relu')(dropout1)\n",
    "\n",
    "#right side after concats\n",
    "dense6 = tf.keras.layers.Dense(23, activation='relu')(concat2)\n",
    "dropout2 = tf.keras.layers.Dropout(.30)(dense6)\n",
    "dense7 = tf.keras.layers.Dense(46, activation='relu')(dropout2)\n",
    "\n",
    "#final 3 layers\n",
    "add1 = tf.keras.layers.add([dense5, dense7])\n",
    "dense8 = tf.keras.layers.Dense(20, activation='relu')(add1)\n",
    "dense9 = tf.keras.layers.Dense(10, activation='relu')(dense8)\n",
    "\n",
    "model_functional = tf.keras.Model(inputs=(input1, input2, input3),\n",
    "                                 outputs=dense9)\n"
   ]
  },
  {
   "cell_type": "code",
   "execution_count": 2,
   "metadata": {
    "tags": [
     "answers_2_1"
    ]
   },
   "outputs": [
    {
     "name": "stdout",
     "output_type": "stream",
     "text": [
      "Model: \"functional_1\"\n",
      "__________________________________________________________________________________________________\n",
      "Layer (type)                    Output Shape         Param #     Connected to                     \n",
      "==================================================================================================\n",
      "input_1 (InputLayer)            [(None, 13)]         0                                            \n",
      "__________________________________________________________________________________________________\n",
      "dense (Dense)                   (None, 13)           182         input_1[0][0]                    \n",
      "__________________________________________________________________________________________________\n",
      "dense_1 (Dense)                 (None, 26)           364         dense[0][0]                      \n",
      "__________________________________________________________________________________________________\n",
      "input_2 (InputLayer)            [(None, 13)]         0                                            \n",
      "__________________________________________________________________________________________________\n",
      "dense_2 (Dense)                 (None, 20)           540         dense_1[0][0]                    \n",
      "__________________________________________________________________________________________________\n",
      "input_3 (InputLayer)            [(None, 13)]         0                                            \n",
      "__________________________________________________________________________________________________\n",
      "concatenate (Concatenate)       (None, 33)           0           input_2[0][0]                    \n",
      "                                                                 dense_2[0][0]                    \n",
      "__________________________________________________________________________________________________\n",
      "concatenate_1 (Concatenate)     (None, 33)           0           input_3[0][0]                    \n",
      "                                                                 dense_2[0][0]                    \n",
      "__________________________________________________________________________________________________\n",
      "dense_3 (Dense)                 (None, 23)           782         concatenate[0][0]                \n",
      "__________________________________________________________________________________________________\n",
      "dense_5 (Dense)                 (None, 23)           782         concatenate_1[0][0]              \n",
      "__________________________________________________________________________________________________\n",
      "dropout (Dropout)               (None, 23)           0           dense_3[0][0]                    \n",
      "__________________________________________________________________________________________________\n",
      "dropout_1 (Dropout)             (None, 23)           0           dense_5[0][0]                    \n",
      "__________________________________________________________________________________________________\n",
      "dense_4 (Dense)                 (None, 46)           1104        dropout[0][0]                    \n",
      "__________________________________________________________________________________________________\n",
      "dense_6 (Dense)                 (None, 46)           1104        dropout_1[0][0]                  \n",
      "__________________________________________________________________________________________________\n",
      "add (Add)                       (None, 46)           0           dense_4[0][0]                    \n",
      "                                                                 dense_6[0][0]                    \n",
      "__________________________________________________________________________________________________\n",
      "dense_7 (Dense)                 (None, 20)           940         add[0][0]                        \n",
      "__________________________________________________________________________________________________\n",
      "dense_8 (Dense)                 (None, 10)           210         dense_7[0][0]                    \n",
      "==================================================================================================\n",
      "Total params: 6,008\n",
      "Trainable params: 6,008\n",
      "Non-trainable params: 0\n",
      "__________________________________________________________________________________________________\n"
     ]
    }
   ],
   "source": [
    "# Tehtävän vastaukset. Huom! Älä muokkaa tätä solua, vaan aja se, kun olet suorittanut tehtävän. Sijoita luomasi malli model_functional - muuttujaan.\n",
    "model_functional.summary()"
   ]
  },
  {
   "cell_type": "markdown",
   "metadata": {},
   "source": [
    "# Tehtävä 2\n",
    "### Aihe: Konvoluutioneuroverkko ja feature - matriisit\n",
    "2,5 pistettä\n",
    "\n",
    "1. Lataa MNIST datasetti.\n",
    "2. Luo konvoluutioneuroverkko, joka vie klassifiointikerroksille 32 feature - matriisia, joiden korkeus ja leveys on 6.\n",
    "3. Todista neuroverkon toimivuus kouluttamalla MNIST datasettiä muutama epookki.\n",
    "4. Aja \"Tehtävän vastaukset\" solu\n",
    "\n",
    "Vinkkejä:\n",
    "* Käytä useita konvoluutio ja Max Pooling - kerroksia saavuttaaksesi oikean korkeuden ja leveyden feature - matriiseille. Käytä apuna ulostulon laskukaavoja materiaaleista.\n",
    "    * Mahdollisia yhdistelmiä on monta, ei yhtä ainoaa ratkaisua. \n",
    "* Jos koneellasi loppuu muisti kesken tai konvoluutioverkon koulutus kestää liian kauan, pienennä MNIST datasetin kokoa esim. kymmenesosaan.\n",
    "* Klassifikaatiokerrokset = Flatten, Dense kerrokset konvoluutiokerrosten jälkeen."
   ]
  },
  {
   "cell_type": "code",
   "execution_count": 3,
   "metadata": {},
   "outputs": [
    {
     "name": "stdout",
     "output_type": "stream",
     "text": [
      "(60000, 28, 28)\n",
      "(10000, 28, 28, 1)\n",
      "Tensor(\"max_pooling2d_1/MaxPool:0\", shape=(None, 6, 6, 32), dtype=float64)\n",
      "Tensor(\"dense_14/Softmax:0\", shape=(None, 10), dtype=float64)\n",
      "Epoch 1/2\n",
      "600/600 [==============================] - 23s 38ms/step - loss: 0.5650 - categorical_accuracy: 0.8114 - val_loss: 0.1508 - val_categorical_accuracy: 0.9552\n",
      "Epoch 2/2\n",
      "600/600 [==============================] - 23s 38ms/step - loss: 0.1321 - categorical_accuracy: 0.9589 - val_loss: 0.0931 - val_categorical_accuracy: 0.9714\n"
     ]
    },
    {
     "data": {
      "text/plain": [
       "<tensorflow.python.keras.callbacks.History at 0x206f3a766d0>"
      ]
     },
     "execution_count": 3,
     "metadata": {},
     "output_type": "execute_result"
    }
   ],
   "source": [
    "# Tehtävän toteutus\n",
    "import tensorflow as tf\n",
    "import matplotlib.pyplot as plt\n",
    "import pandas as pd\n",
    "\n",
    "(train_X, train_y), (test_X, test_y) = tf.keras.datasets.mnist.load_data()\n",
    "print(train_X.shape)\n",
    "\n",
    "#plt.imshow(x_train[0], cmap='Greys') #black and white\n",
    "\n",
    "#input variables\n",
    "train_X = train_X.reshape((train_X.shape[0],28,28,1))\n",
    "test_X = test_X.reshape((test_X.shape[0],28,28,1))\n",
    "print(test_X.shape)\n",
    "train_X = train_X/255 # scaled to values in between 0-1\n",
    "test_X = test_X/255\n",
    "\n",
    "train_y = pd.get_dummies(train_y)\n",
    "test_y = pd.get_dummies(test_y)\n",
    "\n",
    "# Jos padding on 'same', niin matriisia, johon konvoluutio suoritetaan, täytetään nollilla, niin että ulostulossa on samat dimensiot (leveys ja korkeus) kuin sisääntulossa.\n",
    "# Tämä pätee vain, jos askel on yksi\n",
    "model_input = tf.keras.Input(shape=(28,28,1)) \n",
    "\n",
    "# konvoluutiokerros\n",
    "model_conv1 = tf.keras.layers.Conv2D(filters=32, kernel_size=(2,2),strides=1, padding='same')(model_input) #28x28x32\n",
    "model_conv2 = tf.keras.layers.Conv2D(filters=32, kernel_size=(2,2),strides=(2,2), padding='same')(model_conv1)\n",
    "model_maxpool1 = tf.keras.layers.MaxPooling2D(pool_size=(2,2),strides=(2,2))(model_conv2)\n",
    "model_maxpool2 = tf.keras.layers.MaxPooling2D(pool_size=(2,2),strides=(1,1))(model_maxpool1) #6x6x32\n",
    "\n",
    "#Flatten\n",
    "model_flatten = tf.keras.layers.Flatten()(model_maxpool2)\n",
    "\n",
    "#Dense\n",
    "model_dense1 = tf.keras.layers.Dense(50, activation='relu')(model_flatten)\n",
    "model_dense2 = tf.keras.layers.Dense(40, activation='relu')(model_dense1)\n",
    "model_dense3 = tf.keras.layers.Dense(32, activation='relu')(model_dense2)\n",
    "model_dense4 = tf.keras.layers.Dense(26, activation='relu')(model_dense3)\n",
    "model_dense5 = tf.keras.layers.Dense(24, activation='relu')(model_dense4)\n",
    "\n",
    "output_layer = tf.keras.layers.Dense(10, activation='softmax')(model_dense5)\n",
    "\n",
    "model_mnist = tf.keras.Model(inputs=model_input,\n",
    "                        outputs=output_layer)\n",
    "print(model_mnist.layers[4].output)\n",
    "print(model_mnist.output)\n",
    "\n",
    "model_mnist.compile(loss=['categorical_crossentropy'],\n",
    "               optimizer=tf.optimizers.Adam(learning_rate=0.001),\n",
    "               metrics=['categorical_accuracy'])\n",
    "\n",
    "model_mnist.fit(train_X, train_y, validation_data=(test_X, test_y), epochs=2, batch_size=100)"
   ]
  },
  {
   "cell_type": "code",
   "execution_count": null,
   "metadata": {
    "tags": [
     "answers_2_2"
    ]
   },
   "outputs": [],
   "source": [
    "# Tehtävän vastaukset. Huom! Älä muokkaa tätä solua, vaan aja se, kun olet suorittanut tehtävän. \n",
    "\n",
    "# Sijoita layer_output muuttujaan sen konvoluutikerroksen ulostulon muoto, missä kerroksesta tulee ulos 32 feature matriisia, joiden korkeus ja leveys on 6\n",
    "# Esim. layer_output = model.layers[5].output.shape\n",
    "print(output_layer)\n",
    "# Sijoita luomasi malli model_mnist - muuttujaan.\n",
    "model_mnist.summary()"
   ]
  },
  {
   "cell_type": "markdown",
   "metadata": {},
   "source": [
    "# Tehtävä 3\n",
    "### Aihe: Siirto-oppiminen\n",
    "2,5 pistettä\n",
    "\n",
    "1. Luo alla olevan kuvan mukainen neuroverkkomalli.\n",
    "2. Lataa malliin painoarvot \"weights.h5\" tiedostosta.\n",
    "3. Aja tehtävän viimeinen \"Vastaukset\" solu."
   ]
  },
  {
   "cell_type": "code",
   "execution_count": null,
   "metadata": {},
   "outputs": [],
   "source": [
    "Image('../img/cnnmalli.png')"
   ]
  },
  {
   "cell_type": "markdown",
   "metadata": {},
   "source": [
    "Vinkkejä:\n",
    "* Käytä Conv2D - kerroksissa aktivaatiofunktiona 'relu'\n",
    "* Katso konvoluutiokerroksen ulostulosta, kuinka monta filtteriä tulisi määrittää.\n",
    "* Konvoluutiokerroksissa kernelin koko on (5,5). Katso materiaaleista, mikä padding ja stride tulee olla, että ulostulolla on sama leveys ja korkeus kuin sisääntulolla.\n",
    "* MaxPooling2D:ssä pool_size on (2,2). Mikä tulee olla askel (strides) parametri, että sisääntulo puolittuu?\n",
    "* Dropout deaktivoi ensimmäisessä Dropout - kerroksessa 20% neuroneista ja toisessa 40%."
   ]
  },
  {
   "cell_type": "code",
   "execution_count": 1,
   "metadata": {},
   "outputs": [],
   "source": [
    "# Tehtävän toteutus\n",
    "import tensorflow as tf\n",
    "import matplotlib.pyplot as plt\n",
    "import pandas as pd\n",
    "\n",
    "(train_X, train_y), (test_X, test_y) = tf.keras.datasets.mnist.load_data()\n",
    "#print(train_X.shape)\n",
    "\n",
    "train_X = train_X.reshape((train_X.shape[0],28,28,1))\n",
    "#print(train_X.shape)\n",
    "\n",
    "model_input = tf.keras.Input(shape=(28,28,1))\n",
    "model_conv1 = tf.keras.layers.Conv2D(filters=24, kernel_size=(5,5),strides=1, padding='same', activation='relu')(model_input)\n",
    "model_maxpool1 = tf.keras.layers.MaxPooling2D(pool_size=(2,2), strides=(2,2))(model_conv1)\n",
    "model_dropout1 = tf.keras.layers.Dropout(.20)(model_maxpool1)\n",
    "model_conv2 = tf.keras.layers.Conv2D(filters=48, kernel_size=(5,5),strides=1, padding='same', activation='relu')(model_dropout1)\n",
    "model_dropout2 = tf.keras.layers.Dropout(.40)(model_conv2)\n",
    "model_conv3 = tf.keras.layers.Conv2D(filters=64, kernel_size=(5,5),strides=1, padding='same', activation='relu')(model_dropout2)\n",
    "model_maxpool2 = tf.keras.layers.MaxPooling2D(pool_size=(2,2), strides=(2,2))(model_conv3)\n",
    "model_flatten = tf.keras.layers.Flatten()(model_maxpool2)\n",
    "model_dense1 = tf.keras.layers.Dense(256, activation='relu')(model_flatten)\n",
    "model_dense2 = tf.keras.layers.Dense(10, activation='relu')(model_dense1)\n",
    "\n",
    "model_cnn = tf.keras.Model(inputs=model_input,\n",
    "                        outputs=model_dense2)\n",
    "\n",
    "model_cnn.load_weights('osa2_weights.h5')\n",
    "\n",
    "#model_cnn.summary()"
   ]
  },
  {
   "cell_type": "code",
   "execution_count": 4,
   "metadata": {
    "tags": [
     "answers_2_3"
    ]
   },
   "outputs": [
    {
     "ename": "NameError",
     "evalue": "name 'model_cnn' is not defined",
     "output_type": "error",
     "traceback": [
      "\u001b[1;31m---------------------------------------------------------------------------\u001b[0m",
      "\u001b[1;31mNameError\u001b[0m                                 Traceback (most recent call last)",
      "\u001b[1;32m<ipython-input-4-28cf82e7d642>\u001b[0m in \u001b[0;36m<module>\u001b[1;34m\u001b[0m\n\u001b[0;32m      1\u001b[0m \u001b[1;31m# Tehtävän vastaukset. Huom! Älä muokkaa tätä solua, vaan aja se, kun olet suorittanut tehtävän. Sijoita luomasi malli model_cnn - muuttujaan\u001b[0m\u001b[1;33m\u001b[0m\u001b[1;33m\u001b[0m\u001b[1;33m\u001b[0m\u001b[0m\n\u001b[1;32m----> 2\u001b[1;33m \u001b[0mmodel_cnn\u001b[0m\u001b[1;33m.\u001b[0m\u001b[0msummary\u001b[0m\u001b[1;33m(\u001b[0m\u001b[1;33m)\u001b[0m\u001b[1;33m\u001b[0m\u001b[1;33m\u001b[0m\u001b[0m\n\u001b[0m",
      "\u001b[1;31mNameError\u001b[0m: name 'model_cnn' is not defined"
     ]
    }
   ],
   "source": [
    "# Tehtävän vastaukset. Huom! Älä muokkaa tätä solua, vaan aja se, kun olet suorittanut tehtävän. Sijoita luomasi malli model_cnn - muuttujaan\n",
    "model_cnn.summary()"
   ]
  },
  {
   "cell_type": "markdown",
   "metadata": {},
   "source": [
    "# Tehtävä 4\n",
    "### Aihe: Siirto-oppiminen\n",
    "2,5 pistettä\n",
    " \n",
    "1. Lataa Fashion MNIST datasetti ajamalla tehtävän ensimmäinen solu.\n",
    "2. Poista äskeisessä tehtävässä luodusta mallista klassifikaatiokerrokset. (eli Flatten ja kaikki sen jälkeiset kerrokset)\n",
    "3. Jäädytä loput kerrokset.\n",
    "4. Luo klassifikaatiokerrokset ja lisää ne malliin.\n",
    "5. Kouluta mallia Fashion MNIST datasetillä muutama kierros (epoch) käyttäen train_X ja train_y koulutusdataa.\n",
    "6. Aja tehtävän viimeinen \"Vastaukset\" solu. \n",
    "\n",
    "Vinkkejä:\n",
    "* Fashion MNIST on MNISTin tapainen datasetti\n",
    "    * Muokkaa Fashion MNIST datasetin kuvien muoto, jotta ne voi syöttää neuroverkolle.\n",
    "* Käy neuroverkon kerrokset läpi ja muuta kerrosten 'trainable' parametriä. Näin voit jäädyttää kerroksen.\n",
    "* Klassifikaatiokerrokset = Flatten, Dense kerrokset."
   ]
  },
  {
   "cell_type": "code",
   "execution_count": 4,
   "metadata": {},
   "outputs": [
    {
     "name": "stdout",
     "output_type": "stream",
     "text": [
      "Model: \"functional_5\"\n",
      "_________________________________________________________________\n",
      "Layer (type)                 Output Shape              Param #   \n",
      "=================================================================\n",
      "input_1 (InputLayer)         [(None, 28, 28, 1)]       0         \n",
      "_________________________________________________________________\n",
      "conv2d (Conv2D)              (None, 28, 28, 24)        624       \n",
      "_________________________________________________________________\n",
      "max_pooling2d (MaxPooling2D) (None, 14, 14, 24)        0         \n",
      "_________________________________________________________________\n",
      "dropout (Dropout)            (None, 14, 14, 24)        0         \n",
      "_________________________________________________________________\n",
      "conv2d_1 (Conv2D)            (None, 14, 14, 48)        28848     \n",
      "_________________________________________________________________\n",
      "dropout_1 (Dropout)          (None, 14, 14, 48)        0         \n",
      "_________________________________________________________________\n",
      "conv2d_2 (Conv2D)            (None, 14, 14, 64)        76864     \n",
      "_________________________________________________________________\n",
      "max_pooling2d_1 (MaxPooling2 (None, 7, 7, 64)          0         \n",
      "_________________________________________________________________\n",
      "flatten_2 (Flatten)          (None, 3136)              0         \n",
      "_________________________________________________________________\n",
      "dense_4 (Dense)              (None, 256)               803072    \n",
      "_________________________________________________________________\n",
      "dense_5 (Dense)              (None, 10)                2570      \n",
      "=================================================================\n",
      "Total params: 911,978\n",
      "Trainable params: 805,642\n",
      "Non-trainable params: 106,336\n",
      "_________________________________________________________________\n",
      "Epoch 1/10\n",
      "1875/1875 [==============================] - 16s 8ms/step - loss: 0.4851 - categorical_accuracy: 0.8291\n",
      "Epoch 2/10\n",
      "1875/1875 [==============================] - 15s 8ms/step - loss: 0.3746 - categorical_accuracy: 0.8606\n",
      "Epoch 3/10\n",
      "1875/1875 [==============================] - 16s 8ms/step - loss: 0.3422 - categorical_accuracy: 0.8699\n",
      "Epoch 4/10\n",
      "1875/1875 [==============================] - 16s 8ms/step - loss: 0.3178 - categorical_accuracy: 0.8802\n",
      "Epoch 5/10\n",
      "1875/1875 [==============================] - 16s 8ms/step - loss: 0.3054 - categorical_accuracy: 0.8849\n",
      "Epoch 6/10\n",
      "1875/1875 [==============================] - 16s 8ms/step - loss: 0.2879 - categorical_accuracy: 0.8913\n",
      "Epoch 7/10\n",
      "1875/1875 [==============================] - 16s 8ms/step - loss: 0.2760 - categorical_accuracy: 0.8944\n",
      "Epoch 8/10\n",
      "1875/1875 [==============================] - 16s 8ms/step - loss: 0.2697 - categorical_accuracy: 0.8982\n",
      "Epoch 9/10\n",
      "1875/1875 [==============================] - 15s 8ms/step - loss: 0.2600 - categorical_accuracy: 0.9007\n",
      "Epoch 10/10\n",
      "1875/1875 [==============================] - 16s 8ms/step - loss: 0.2520 - categorical_accuracy: 0.9030\n"
     ]
    }
   ],
   "source": [
    "import tensorflow as tf\n",
    "import matplotlib.pyplot as plt\n",
    "import pandas as pd\n",
    "\n",
    "(train_X, train_y), (test_X, test_y) = tf.keras.datasets.fashion_mnist.load_data()\n",
    "# Tehtävän toteutus tähän\n",
    "\n",
    "#input variables\n",
    "train_X = train_X.reshape((train_X.shape[0],28,28,1))\n",
    "test_X = test_X.reshape((test_X.shape[0],28,28,1))\n",
    "train_X = train_X/255 # scaled to values in between 0-1\n",
    "test_X = test_X/255\n",
    "\n",
    "#OneHot transformation\n",
    "train_y = pd.get_dummies(train_y)\n",
    "test_y = pd.get_dummies(test_y)\n",
    "\n",
    "#print(test_y.shape)\n",
    "\n",
    "model_freeze = model_cnn.layers[:8]\n",
    "\n",
    "for layer in model_freeze:\n",
    "    #print(layer)\n",
    "    layer.trainable = False\n",
    "\n",
    "\n",
    "#classification layers\n",
    "#print(model_freeze[-1])\n",
    "\n",
    "new_model_flatten = tf.keras.layers.Flatten()(model_freeze[-1].output)\n",
    "new_model_dense1 = tf.keras.layers.Dense(256, activation='relu')(new_model_flatten)\n",
    "\n",
    "#output layer\n",
    "new_output_layer = tf.keras.layers.Dense(10 ,activation='softmax')(new_model_dense1)\n",
    "\n",
    "model_result = tf.keras.Model(inputs=model_freeze[0].input,\n",
    "                              outputs=new_output_layer)\n",
    "\n",
    "model_result.summary()\n",
    "\n",
    "\n",
    "model_result.compile(loss=['categorical_crossentropy'],\n",
    "                     optimizer=tf.optimizers.Adam(learning_rate=0.001),\n",
    "                     metrics=['categorical_accuracy'])\n",
    "\n",
    "\n",
    "model_result.fit(train_X,\n",
    "                 train_y,\n",
    "                 epochs=10)\n",
    "\n",
    "\n",
    "results = model_result.evaluate(train_X,\n",
    "                                train_y,\n",
    "                                verbose=0)\n",
    "\n",
    "#results.summary()"
   ]
  },
  {
   "cell_type": "code",
   "execution_count": 5,
   "metadata": {
    "tags": [
     "answers_2_4"
    ]
   },
   "outputs": [
    {
     "name": "stdout",
     "output_type": "stream",
     "text": [
      "Test Loss:0.18510577082633972 Test Accuracy:93.28166842460632%\n"
     ]
    }
   ],
   "source": [
    "# Tehtävän vastaukset. Huom! Älä muokkaa tätä solua, vaan aja se, kun olet suorittanut tehtävän. Sijoita results - muuttujaan funktion model.evaluate() tulos.\n",
    "# Muista määrittää model.compile() - funktioon seurattavaksi suureeksi metrics=['accuracy'], jotta näät, kuinka suuri osa neuroverkon ennustuksista on oikein.\n",
    "print(f\"Test Loss:{results[0]} Test Accuracy:{results[1]*100}%\")"
   ]
  },
  {
   "cell_type": "code",
   "execution_count": null,
   "metadata": {},
   "outputs": [],
   "source": []
  }
 ],
 "metadata": {
  "kernelspec": {
   "display_name": "Python 3",
   "language": "python",
   "name": "python3"
  },
  "language_info": {
   "codemirror_mode": {
    "name": "ipython",
    "version": 3
   },
   "file_extension": ".py",
   "mimetype": "text/x-python",
   "name": "python",
   "nbconvert_exporter": "python",
   "pygments_lexer": "ipython3",
   "version": "3.8.8"
  }
 },
 "nbformat": 4,
 "nbformat_minor": 4
}
