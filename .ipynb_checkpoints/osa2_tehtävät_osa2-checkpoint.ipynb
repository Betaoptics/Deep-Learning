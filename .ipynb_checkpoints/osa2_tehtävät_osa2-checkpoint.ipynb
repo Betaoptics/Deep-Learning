{
 "cells": [
  {
   "cell_type": "markdown",
   "metadata": {},
   "source": [
    "# Tehtävä 1\n",
    "### Aihe: Keras Functional API:n käyttö\n",
    "2,5 pistettä\n",
    "\n",
    "1. Luo alla olevan kuvan mukainen neuroverkko, jossa on useampi sisääntulo.\n",
    "    * Kerroksien neuronien määrällä tai aktivaatiofunktiolla ei ole väliä, määritä ne itse vapaasti.\n",
    "2. Aja \"Tehtävän vastaukset\" solu\n",
    "\n",
    "Vinkkejä:\n",
    "* Käytä concatenate - kerrosta yhdistääksesi Input2 ja sitä edeltävän Densen ulostulo. Sama homma Input3:lle. Katso esimerkki materiaalista Keras - otsikon alta.\n",
    "* Add kerroksen dokumentaatio: https://www.tensorflow.org/api_docs/python/tf/keras/layers/add?hl=th"
   ]
  },
  {
   "cell_type": "code",
   "execution_count": null,
   "metadata": {},
   "outputs": [],
   "source": [
    "from IPython.display import Image\n",
    "Image('../img/keras_functional_tehtävä.png')"
   ]
  },
  {
   "cell_type": "code",
   "execution_count": null,
   "metadata": {},
   "outputs": [],
   "source": [
    "# Tehtävän toteutus\n",
    "import tensorflow as tf\n",
    "tf.keras.backend.set_floatx('float64')\n",
    "\n",
    "boston = tf.keras.datasets.boston_housing\n",
    "(train_features, train_labels), (test_features, test_labels) = boston.load_data()\n",
    "\n",
    "train_features_input1, train_features_input2 = train_features[:,:2], train_features[:,2]\n",
    "print(train_features_input1.shape)\n",
    "print(train_features_input2.shape)\n",
    "\n",
    "#inputs\n",
    "input1 = tf.keras.Input(shape=(13))\n",
    "input2 = tf.keras.Input(shape=(13))\n",
    "input3 = tf.keras.Input(shape=(13))\n",
    "\n",
    "#initial dense layers\n",
    "dense1 = tf.keras.layers.Dense(13, activation='relu')(input1)\n",
    "dense2 = tf.keras.layers.Dense(26, activation='relu')(dense1)\n",
    "dense3 = tf.keras.layers.Dense(20, activation='relu')(dense2)\n",
    "\n",
    "#concat dense3 to input2 and input3 layer\n",
    "concat1 = tf.keras.layers.concatenate([input2, dense3])\n",
    "concat2 = tf.keras.layers.concatenate([input3, dense3])\n",
    "\n",
    "#left side after concats\n",
    "dense4 = tf.keras.layers.Dense(23, activation='relu')(concat1)\n",
    "dropout1 = tf.keras.layers.Dropout(.20)(dense4)\n",
    "dense5 = tf.keras.layers.Dense(46, activation='relu')(dropout1)\n",
    "\n",
    "#right side after concats\n",
    "dense6 = tf.keras.layers.Dense(23, activation='relu')(concat2)\n",
    "dropout2 = tf.keras.layers.Dropout(.30)(dense6)\n",
    "dense7 = tf.keras.layers.Dense(46, activation='relu')(dropout2)\n",
    "\n",
    "#final 3 layers\n",
    "add1 = tf.keras.layers.add([dense5, dense7])\n",
    "dense8 = tf.keras.layers.Dense(20, activation='relu')(add1)\n",
    "dense9 = tf.keras.layers.Dense(10, activation='relu')(dense8)\n",
    "\n",
    "model_functional = tf.keras.Model(inputs=(input1, input2, input3),\n",
    "                                 outputs=dense9)\n"
   ]
  },
  {
   "cell_type": "code",
   "execution_count": null,
   "metadata": {
    "tags": [
     "answers_2_1"
    ]
   },
   "outputs": [],
   "source": [
    "# Tehtävän vastaukset. Huom! Älä muokkaa tätä solua, vaan aja se, kun olet suorittanut tehtävän. Sijoita luomasi malli model_functional - muuttujaan.\n",
    "model_functional.summary()"
   ]
  },
  {
   "cell_type": "markdown",
   "metadata": {},
   "source": [
    "# Tehtävä 2\n",
    "### Aihe: Konvoluutioneuroverkko ja feature - matriisit\n",
    "2,5 pistettä\n",
    "\n",
    "1. Lataa MNIST datasetti.\n",
    "2. Luo konvoluutioneuroverkko, joka vie klassifiointikerroksille 32 feature - matriisia, joiden korkeus ja leveys on 6.\n",
    "3. Todista neuroverkon toimivuus kouluttamalla MNIST datasettiä muutama epookki.\n",
    "4. Aja \"Tehtävän vastaukset\" solu\n",
    "\n",
    "Vinkkejä:\n",
    "* Käytä useita konvoluutio ja Max Pooling - kerroksia saavuttaaksesi oikean korkeuden ja leveyden feature - matriiseille. Käytä apuna ulostulon laskukaavoja materiaaleista.\n",
    "    * Mahdollisia yhdistelmiä on monta, ei yhtä ainoaa ratkaisua. \n",
    "* Jos koneellasi loppuu muisti kesken tai konvoluutioverkon koulutus kestää liian kauan, pienennä MNIST datasetin kokoa esim. kymmenesosaan.\n",
    "* Klassifikaatiokerrokset = Flatten, Dense kerrokset konvoluutiokerrosten jälkeen."
   ]
  },
  {
   "cell_type": "code",
   "execution_count": null,
   "metadata": {},
   "outputs": [],
   "source": [
    "# Tehtävän toteutus\n",
    "import tensorflow as tf\n",
    "import matplotlib.pyplot as plt\n",
    "import pandas as pd\n",
    "\n",
    "(train_X, train_y), (test_X, test_y) = tf.keras.datasets.mnist.load_data()\n",
    "print(train_X.shape)\n",
    "\n",
    "#plt.imshow(x_train[0], cmap='Greys') #black and white\n",
    "\n",
    "#input variables\n",
    "train_X = train_X.reshape((train_X.shape[0],28,28,1))\n",
    "test_X = test_X.reshape((test_X.shape[0],28,28,1))\n",
    "print(test_X.shape)\n",
    "train_X = train_X/255 # scaled to values in between 0-1\n",
    "test_X = test_X/255\n",
    "\n",
    "train_y = pd.get_dummies(train_y)\n",
    "test_y = pd.get_dummies(test_y)\n",
    "\n",
    "# Jos padding on 'same', niin matriisia, johon konvoluutio suoritetaan, täytetään nollilla, niin että ulostulossa on samat dimensiot (leveys ja korkeus) kuin sisääntulossa.\n",
    "# Tämä pätee vain, jos askel on yksi\n",
    "model_input = tf.keras.Input(shape=(28,28,1)) \n",
    "\n",
    "# konvoluutiokerros\n",
    "model_conv1 = tf.keras.layers.Conv2D(filters=32, kernel_size=(2,2),strides=1, padding='same')(model_input) #28x28x32\n",
    "model_conv2 = tf.keras.layers.Conv2D(filters=32, kernel_size=(2,2),strides=(2,2), padding='same')(model_conv1)\n",
    "model_maxpool1 = tf.keras.layers.MaxPooling2D(pool_size=(2,2),strides=(2,2))(model_conv2)\n",
    "model_maxpool2 = tf.keras.layers.MaxPooling2D(pool_size=(2,2),strides=(1,1))(model_maxpool1) #6x6x32\n",
    "\n",
    "#Flatten\n",
    "model_flatten = tf.keras.layers.Flatten()(model_maxpool2)\n",
    "\n",
    "#Dense\n",
    "model_dense1 = tf.keras.layers.Dense(50, activation='relu')(model_flatten)\n",
    "model_dense2 = tf.keras.layers.Dense(40, activation='relu')(model_dense1)\n",
    "model_dense3 = tf.keras.layers.Dense(32, activation='relu')(model_dense2)\n",
    "model_dense4 = tf.keras.layers.Dense(26, activation='relu')(model_dense3)\n",
    "model_dense5 = tf.keras.layers.Dense(24, activation='relu')(model_dense4)\n",
    "\n",
    "output_layer = tf.keras.layers.Dense(10, activation='softmax')(model_dense5)\n",
    "\n",
    "model_mnist = tf.keras.Model(inputs=model_input,\n",
    "                        outputs=output_layer)\n",
    "print(model_mnist.layers[4].output)\n",
    "print(model_mnist.output)\n",
    "\n",
    "model_mnist.compile(loss=['categorical_crossentropy'],\n",
    "               optimizer=tf.optimizers.Adam(learning_rate=0.001),\n",
    "               metrics=['categorical_accuracy'])\n",
    "\n",
    "model_mnist.fit(train_X, train_y, validation_data=(test_X, test_y), epochs=2, batch_size=100)"
   ]
  },
  {
   "cell_type": "code",
   "execution_count": null,
   "metadata": {
    "tags": [
     "answers_2_2"
    ]
   },
   "outputs": [],
   "source": [
    "# Tehtävän vastaukset. Huom! Älä muokkaa tätä solua, vaan aja se, kun olet suorittanut tehtävän. \n",
    "\n",
    "# Sijoita layer_output muuttujaan sen konvoluutikerroksen ulostulon muoto, missä kerroksesta tulee ulos 32 feature matriisia, joiden korkeus ja leveys on 6\n",
    "# Esim. layer_output = model.layers[5].output.shape\n",
    "print(output_layer)\n",
    "# Sijoita luomasi malli model_mnist - muuttujaan.\n",
    "model_mnist.summary()"
   ]
  },
  {
   "cell_type": "markdown",
   "metadata": {},
   "source": [
    "# Tehtävä 3\n",
    "### Aihe: Siirto-oppiminen\n",
    "2,5 pistettä\n",
    "\n",
    "1. Luo alla olevan kuvan mukainen neuroverkkomalli.\n",
    "2. Lataa malliin painoarvot \"weights.h5\" tiedostosta.\n",
    "3. Aja tehtävän viimeinen \"Vastaukset\" solu."
   ]
  },
  {
   "cell_type": "code",
   "execution_count": null,
   "metadata": {},
   "outputs": [],
   "source": [
    "Image('../img/cnnmalli.png')"
   ]
  },
  {
   "cell_type": "markdown",
   "metadata": {},
   "source": [
    "Vinkkejä:\n",
    "* Käytä Conv2D - kerroksissa aktivaatiofunktiona 'relu'\n",
    "* Katso konvoluutiokerroksen ulostulosta, kuinka monta filtteriä tulisi määrittää.\n",
    "* Konvoluutiokerroksissa kernelin koko on (5,5). Katso materiaaleista, mikä padding ja stride tulee olla, että ulostulolla on sama leveys ja korkeus kuin sisääntulolla.\n",
    "* MaxPooling2D:ssä pool_size on (2,2). Mikä tulee olla askel (strides) parametri, että sisääntulo puolittuu?\n",
    "* Dropout deaktivoi ensimmäisessä Dropout - kerroksessa 20% neuroneista ja toisessa 40%."
   ]
  },
  {
   "cell_type": "code",
   "execution_count": 41,
   "metadata": {},
   "outputs": [],
   "source": [
    "# Tehtävän toteutus\n",
    "import tensorflow as tf\n",
    "import matplotlib.pyplot as plt\n",
    "import pandas as pd\n",
    "\n",
    "(train_X, train_y), (test_X, test_y) = tf.keras.datasets.mnist.load_data()\n",
    "#print(train_X.shape)\n",
    "\n",
    "train_X = train_X.reshape((train_X.shape[0],28,28,1))\n",
    "#print(train_X.shape)\n",
    "\n",
    "model_input = tf.keras.Input(shape=(28,28,1))\n",
    "model_conv1 = tf.keras.layers.Conv2D(filters=24, kernel_size=(5,5),strides=1, padding='same', activation='relu')(model_input)\n",
    "model_maxpool1 = tf.keras.layers.MaxPooling2D(pool_size=(2,2), strides=(2,2))(model_conv1)\n",
    "model_dropout1 = tf.keras.layers.Dropout(.20)(model_maxpool1)\n",
    "model_conv2 = tf.keras.layers.Conv2D(filters=48, kernel_size=(5,5),strides=1, padding='same', activation='relu')(model_dropout1)\n",
    "model_dropout2 = tf.keras.layers.Dropout(.40)(model_conv2)\n",
    "model_conv3 = tf.keras.layers.Conv2D(filters=64, kernel_size=(5,5),strides=1, padding='same', activation='relu')(model_dropout2)\n",
    "model_maxpool2 = tf.keras.layers.MaxPooling2D(pool_size=(2,2), strides=(2,2))(model_conv3)\n",
    "model_flatten = tf.keras.layers.Flatten()(model_maxpool2)\n",
    "model_dense1 = tf.keras.layers.Dense(256, activation='relu')(model_flatten)\n",
    "model_dense2 = tf.keras.layers.Dense(10, activation='relu')(model_dense1)\n",
    "\n",
    "model_cnn = tf.keras.Model(inputs=model_input,\n",
    "                        outputs=model_dense2)\n",
    "\n",
    "model_cnn.load_weights('osa2_weights.h5')\n",
    "\n",
    "#model_cnn.summary()"
   ]
  },
  {
   "cell_type": "code",
   "execution_count": 42,
   "metadata": {
    "tags": [
     "answers_2_3"
    ]
   },
   "outputs": [
    {
     "name": "stdout",
     "output_type": "stream",
     "text": [
      "Model: \"functional_31\"\n",
      "_________________________________________________________________\n",
      "Layer (type)                 Output Shape              Param #   \n",
      "=================================================================\n",
      "input_16 (InputLayer)        [(None, 28, 28, 1)]       0         \n",
      "_________________________________________________________________\n",
      "conv2d_45 (Conv2D)           (None, 28, 28, 24)        624       \n",
      "_________________________________________________________________\n",
      "max_pooling2d_30 (MaxPooling (None, 14, 14, 24)        0         \n",
      "_________________________________________________________________\n",
      "dropout_30 (Dropout)         (None, 14, 14, 24)        0         \n",
      "_________________________________________________________________\n",
      "conv2d_46 (Conv2D)           (None, 14, 14, 48)        28848     \n",
      "_________________________________________________________________\n",
      "dropout_31 (Dropout)         (None, 14, 14, 48)        0         \n",
      "_________________________________________________________________\n",
      "conv2d_47 (Conv2D)           (None, 14, 14, 64)        76864     \n",
      "_________________________________________________________________\n",
      "max_pooling2d_31 (MaxPooling (None, 7, 7, 64)          0         \n",
      "_________________________________________________________________\n",
      "flatten_15 (Flatten)         (None, 3136)              0         \n",
      "_________________________________________________________________\n",
      "dense_24 (Dense)             (None, 256)               803072    \n",
      "_________________________________________________________________\n",
      "dense_25 (Dense)             (None, 10)                2570      \n",
      "=================================================================\n",
      "Total params: 911,978\n",
      "Trainable params: 911,978\n",
      "Non-trainable params: 0\n",
      "_________________________________________________________________\n"
     ]
    }
   ],
   "source": [
    "# Tehtävän vastaukset. Huom! Älä muokkaa tätä solua, vaan aja se, kun olet suorittanut tehtävän. Sijoita luomasi malli model_cnn - muuttujaan\n",
    "model_cnn.summary()"
   ]
  },
  {
   "cell_type": "markdown",
   "metadata": {},
   "source": [
    "# Tehtävä 4\n",
    "### Aihe: Siirto-oppiminen\n",
    "2,5 pistettä\n",
    " \n",
    "1. Lataa Fashion MNIST datasetti ajamalla tehtävän ensimmäinen solu.\n",
    "2. Poista äskeisessä tehtävässä luodusta mallista klassifikaatiokerrokset. (eli Flatten ja kaikki sen jälkeiset kerrokset)\n",
    "3. Jäädytä loput kerrokset.\n",
    "4. Luo klassifikaatiokerrokset ja lisää ne malliin.\n",
    "5. Kouluta mallia Fashion MNIST datasetillä muutama kierros (epoch) käyttäen train_X ja train_y koulutusdataa.\n",
    "6. Aja tehtävän viimeinen \"Vastaukset\" solu. \n",
    "\n",
    "Vinkkejä:\n",
    "* Fashion MNIST on MNISTin tapainen datasetti\n",
    "    * Muokkaa Fashion MNIST datasetin kuvien muoto, jotta ne voi syöttää neuroverkolle.\n",
    "* Käy neuroverkon kerrokset läpi ja muuta kerrosten 'trainable' parametriä. Näin voit jäädyttää kerroksen.\n",
    "* Klassifikaatiokerrokset = Flatten, Dense kerrokset."
   ]
  },
  {
   "cell_type": "code",
   "execution_count": null,
   "metadata": {},
   "outputs": [],
   "source": [
    "import tensorflow as tf\n",
    "import matplotlib.pyplot as plt\n",
    "import pandas as pd\n",
    "\n",
    "(train_X, train_y), (test_X, test_y) = tf.keras.datasets.fashion_mnist.load_data()\n",
    "# Tehtävän toteutus tähän\n",
    "\n",
    "#input variables\n",
    "train_X = train_X.reshape((train_X.shape[0],28,28,1))\n",
    "test_X = test_X.reshape((test_X.shape[0],28,28,1))\n",
    "train_X = train_X/255 # scaled to values in between 0-1\n",
    "test_X = test_X/255\n",
    "\n",
    "#OneHot transformation\n",
    "train_y = pd.get_dummies(train_y)\n",
    "test_y = pd.get_dummies(test_y)\n",
    "\n",
    "#print(test_y.shape)\n",
    "\n",
    "model_freeze = model_cnn.layers[:8]\n",
    "\n",
    "for layer in model_freeze:\n",
    "    print(layer)\n",
    "    layer.trainable = False\n",
    "\n",
    "\n",
    "#classification layers\n",
    "print(model_freeze[-1])\n",
    "\n",
    "new_model_flatten = tf.keras.layers.Flatten()(model_freeze[-1].output)\n",
    "new_model_dense1 = tf.keras.layers.Dense(256, activation='relu')(new_model_flatten)\n",
    "\n",
    "#output layer\n",
    "new_output_layer = tf.keras.layers.Dense(10 ,activation='softmax')(new_model_dense1)\n",
    "\n",
    "model_result = tf.keras.Model(inputs=model_freeze[0].input,\n",
    "                    outputs=new_output_layer)\n",
    "\n",
    "model_result.summary()\n",
    "\n",
    "\n",
    "model_result.compile(loss=['categorical_crossentropy'],\n",
    "               optimizer=tf.optimizers.Adam(learning_rate=0.001),\n",
    "               metrics=['categorical_accuracy'])\n",
    "\n",
    "\n",
    "model_result.fit(train_X, \n",
    "          train_y,\n",
    "          epochs=10)\n",
    "\n",
    "\n",
    "results = model_result.evaluate(train_X,\n",
    "                             train_y,\n",
    "                             verbose=0)\n",
    "\n",
    "model_resuls.summary()"
   ]
  },
  {
   "cell_type": "code",
   "execution_count": null,
   "metadata": {
    "tags": [
     "answers_2_4"
    ]
   },
   "outputs": [],
   "source": [
    "# Tehtävän vastaukset. Huom! Älä muokkaa tätä solua, vaan aja se, kun olet suorittanut tehtävän. Sijoita results - muuttujaan funktion model.evaluate() tulos.\n",
    "# Muista määrittää model.compile() - funktioon seurattavaksi suureeksi metrics=['accuracy'], jotta näät, kuinka suuri osa neuroverkon ennustuksista on oikein.\n",
    "print(f\"Test Loss:{results[0]} Test Accuracy:{results[1]*100}%\")"
   ]
  },
  {
   "cell_type": "code",
   "execution_count": null,
   "metadata": {},
   "outputs": [],
   "source": []
  }
 ],
 "metadata": {
  "kernelspec": {
   "display_name": "Python 3",
   "language": "python",
   "name": "python3"
  },
  "language_info": {
   "codemirror_mode": {
    "name": "ipython",
    "version": 3
   },
   "file_extension": ".py",
   "mimetype": "text/x-python",
   "name": "python",
   "nbconvert_exporter": "python",
   "pygments_lexer": "ipython3",
   "version": "3.8.5"
  }
 },
 "nbformat": 4,
 "nbformat_minor": 4
}
